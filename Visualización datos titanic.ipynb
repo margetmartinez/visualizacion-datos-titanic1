{
 "cells": [
  {
   "cell_type": "markdown",
   "id": "aeeb4e8e",
   "metadata": {},
   "source": [
    "# Visualización datos Titanic"
   ]
  },
  {
   "cell_type": "markdown",
   "id": "cf57bcdf",
   "metadata": {},
   "source": [
    "## Acerca del Titanic"
   ]
  },
  {
   "cell_type": "markdown",
   "id": "c49b2e3b",
   "metadata": {},
   "source": [
    "El 10 de abril de 1912, el Titanic zarpó del puerto inglés de Southampton en su viaje inaugural hacia Nueva York. Lo que habría de ser un viaje histórico por la grandeza del barco y la ingeniería humana terminó pasando a la historia como una de los hundimientos más famosos jamás ocurrido. Al mando de la nave estaba el capitán Edward Smith, un veterano de la White Star Line. "
   ]
  },
  {
   "cell_type": "markdown",
   "id": "77cbfd3e",
   "metadata": {},
   "source": [
    "![a](https://historia.nationalgeographic.com.es/medio/2022/05/02/titanic_d15d7600_800x573.jpg)"
   ]
  },
  {
   "cell_type": "markdown",
   "id": "6ade4b38",
   "metadata": {},
   "source": [
    "## Análisis de datos"
   ]
  },
  {
   "cell_type": "code",
   "execution_count": 4,
   "id": "326cd92f",
   "metadata": {},
   "outputs": [],
   "source": [
    "import pandas as pd"
   ]
  },
  {
   "cell_type": "code",
   "execution_count": 7,
   "id": "322beb8a",
   "metadata": {},
   "outputs": [],
   "source": [
    "# Carga de los datos de entrenamiento en un data frame de pandas\n",
    "\n",
    "pasajeros = pd.read_csv(\"https://raw.githubusercontent.com/gf0657-programacionsig/2022-ii/main/contenido/3/datos/kaggle/titanic/pasajeros-titanic-entrenamiento.csv\")"
   ]
  },
  {
   "cell_type": "markdown",
   "id": "95e2faa7",
   "metadata": {},
   "source": [
    "### Distribución de pasajeros por sexo"
   ]
  },
  {
   "cell_type": "code",
   "execution_count": 8,
   "id": "3e1a32ff",
   "metadata": {},
   "outputs": [
    {
     "name": "stderr",
     "output_type": "stream",
     "text": [
      "Matplotlib is building the font cache; this may take a moment.\n"
     ]
    },
    {
     "data": {
      "text/plain": [
       "<AxesSubplot:>"
      ]
     },
     "execution_count": 8,
     "metadata": {},
     "output_type": "execute_result"
    },
    {
     "data": {
      "image/png": "[encoded data removed]",
      "text/plain": [
       "<Figure size 640x480 with 1 Axes>"
      ]
     },
     "metadata": {},
     "output_type": "display_data"
    }
   ],
   "source": [
    "# Gráfico de barras de cantidades de sobrevivientes y fallecidos por sexo\n",
    "\n",
    "sobrevivientes = pasajeros[pasajeros['Survived']==1]['Sex'].value_counts()\n",
    "fallecidos = pasajeros[pasajeros['Survived']==0]['Sex'].value_counts()\n",
    "\n",
    "df = pd.DataFrame([sobrevivientes, fallecidos])\n",
    "df.index = ['Survived', 'Dead']\n",
    "df.plot(kind='bar', stacked='True')"
   ]
  },
  {
   "cell_type": "markdown",
   "id": "acc65da0",
   "metadata": {},
   "source": [
    "### Diatribución de pasajeros por clase"
   ]
  },
  {
   "cell_type": "code",
   "execution_count": null,
   "id": "808954a5",
   "metadata": {},
   "outputs": [],
   "source": []
  }
 ],
 "metadata": {
  "kernelspec": {
   "display_name": "Python 3 (ipykernel)",
   "language": "python",
   "name": "python3"
  },
  "language_info": {
   "codemirror_mode": {
    "name": "ipython",
    "version": 3
   },
   "file_extension": ".py",
   "mimetype": "text/x-python",
   "name": "python",
   "nbconvert_exporter": "python",
   "pygments_lexer": "ipython3",
   "version": "3.10.6"
  }
 },
 "nbformat": 4,
 "nbformat_minor": 5
}
